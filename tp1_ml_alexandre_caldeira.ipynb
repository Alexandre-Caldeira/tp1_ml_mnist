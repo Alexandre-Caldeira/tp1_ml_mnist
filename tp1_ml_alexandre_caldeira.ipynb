{
 "cells": [
  {
   "cell_type": "markdown",
   "metadata": {},
   "source": [
    "# Resumo deste notebook"
   ]
  },
  {
   "cell_type": "markdown",
   "metadata": {},
   "source": [
    "### **TP1 ML - Alexandre Gomes Caldeira - 2024666544**\n",
    "\n",
    "Abaixo apresento minha solução ao Trabalho Prático 1 da disciplina DIP DCC831 PG3 - Tópicos Especiais em Ciência da Computação - Aprendizado de Máquina. Nessa seção é dado um resumo dos métodos e resultados obtidos como resposta aos requisitos do trabalho, cuja implementação pode ser vista em detalhes nas seções seguintes.\n",
    "\n",
    "Está disponível também um [Repositório Github](https://github.com/Alexandre-Caldeira/tp1_ml_mnist) ([github.com/Alexandre-Caldeira/tp1_ml_mnist](https://github.com/Alexandre-Caldeira/tp1_ml_mnist)) com histórico de implementação e resultados parciais. O repositório inclui requisitos para o ambiente de execução deste notebook para replicação dos resultados. Vale dizer que a execução dos resultados é demorada: 18hrs em CPU i7-8565U, 16 GB RAM.\n",
    "\n",
    "Método: \n",
    "- Aplicada validação cruzada com 5 *folds* (StratifiedKFold) em redes neuronais com regularização por decaimento de peso ajustado de maneira automatizada\n",
    "- Cada modelo teve taxa de aprendizado: 0.5, 1 e 10; neurônios na camada oculta: 25, 50 e 100; número de exemplos para cálculo de gradiente: 1 (SGD), 10 (mini-batch SGD), 50 (mini-batch SGD) e 3350 (todos os dados, GD);\n",
    "- O resultado de validação cruzada dos modelos regularizados é comparado, esperando-se observar e ilustrar o [\"*bias-variance trade-off*\"](https://arxiv.org/abs/1812.11118).\n",
    "\n",
    "Principais Resultados:\n",
    "1. Taxa de Aprendizado menor atinge performances melhores\n",
    "2. Mais exemplos para cada cálculo de gradiente resulta em performances melhores\n",
    "3. Mais neurônios na camada oculta não necessariamente melhora os resultados, parece haver um limite\n",
    "4. Mais neurônios na camada oculta performam melhor com taxas menores de aprendizado\n",
    "\n",
    "Disclaimer:\n",
    "- É válido aumentar o número de *folds*, variações de regularização e épocas para otimizar os resultados quantitativamente (nota final máxima de Acurácia e F1-score). Qualitativamente, nenhuma mudança será observada."
   ]
  },
  {
   "cell_type": "markdown",
   "metadata": {},
   "source": [
    "## **Pacotes utilizados**"
   ]
  },
  {
   "cell_type": "markdown",
   "metadata": {},
   "source": [
    "\n",
    "Alguns pacotes (bibliotecas Python) foram utilizadas para:\n",
    "- **Implementação da rede neuronal, descida gradiente (estocástica)** ([PyTorch](https://pytorch.org/))\n",
    "- **Manipulação e visualização dos dados** ([Pandas](https://pandas.pydata.org/), [Numpy](https://numpy.org/), [Matplotlib](https://matplotlib.org/))\n",
    "- **Separação de dados, implementação de métricas e validação cruzada** ([Scikit-learn](https://scikit-learn.org/))\n",
    "- **Otimização automatizada do hiperparametro de regularização L2** ([Optuna](https://optuna.org/))\n",
    "- **Registro de resultados e parâmetros de cada modelo durante e ao fim do treino** ([MLflow](https://mlflow.org/))"
   ]
  },
  {
   "cell_type": "markdown",
   "metadata": {},
   "source": [
    "## **Sumário de resultados**"
   ]
  },
  {
   "cell_type": "markdown",
   "metadata": {},
   "source": [
    "### **Método**: "
   ]
  },
  {
   "cell_type": "markdown",
   "metadata": {},
   "source": [
    "1. usando uma rede com 784 neurônios na camada de entrada (uma para pixel da imagem de entrada) e 10 neurônios na camada de saída, foram treinadas redes com 25, 50 e 100 neurônios na camada oculta com ativação sigmóide. \n",
    "2. O treino se deu por descida gradiente (clássica, estocástica e mini-batch com batches de 10 e 50 exemplos), usando como função de custo a entropia cruzada, utilizando taxa de aprendizado 0.5, 1 e 10. \n",
    "3. Foi aplicada regularização por decaimento de pesos (teoria: [Weight Decay](https://paperswithcode.com/method/weight-decay), implementação: [PyTorch Stochastic Gradient Descent with Weight Decay](https://pytorch.org/docs/stable/generated/torch.optim.SGD.html)) cujo peso $\\lambda$ foi otimizado automaticamente com Optuna em 5 tentativas.\n",
    "4. O treino foi conduzido empregando validação cruzada de modelos treinados independentemente em 5 amostras aleatórias diferentes do dataset original, separando 67% dos dados para treino (3350 exemplos) e 33% dos dados para teste (1650 exemplos), utilizando a estratégia de [StratifiedKFold (Scikit-learn)](https://scikit-learn.org/stable/modules/cross_validation.html#stratified-k-fold) para k = 5 com embaralhamento (shuffling). \n",
    "5. Cada treino em cada *fold* teve seus parâmetros registrados via MLflow (lr - *taxa de aprendizado*, hidden_dim - *tamanho da camada oculta*, batch_size - *número de exemplos por batch de treino* e weight decay - *decaimento de pesos*), assim como as métricas durante o treinamento (valor da função de custo em treino e teste, [accuracy e F1-score](https://towardsdatascience.com/accuracy-precision-recall-or-f1-331fb37c5cb9)) e fora do treinamento (valor médio de acurácia e F1-score nos *folds*, certificado por validação cruzada).\n"
   ]
  },
  {
   "cell_type": "markdown",
   "metadata": {},
   "source": [
    "### **Principais Resultados**: Taxa de Aprendizado menor atinge performances melhores"
   ]
  },
  {
   "cell_type": "markdown",
   "metadata": {},
   "source": [
    "![](imgs/lr_cv.jpg)"
   ]
  },
  {
   "cell_type": "markdown",
   "metadata": {},
   "source": [
    "### **Principais Resultados**: Mais exemplos para cada cálculo de gradiente resulta em performances melhores"
   ]
  },
  {
   "cell_type": "markdown",
   "metadata": {},
   "source": [
    "![](imgs/batch_size_cv.jpg)"
   ]
  },
  {
   "cell_type": "markdown",
   "metadata": {},
   "source": [
    "### **Principais Resultados**: Mais neurônios na camada oculta não necessariamente melhora os resultados, parece haver um limite"
   ]
  },
  {
   "cell_type": "markdown",
   "metadata": {},
   "source": [
    "\n",
    "![](imgs/hidden_dim_cv.jpg)\n"
   ]
  },
  {
   "cell_type": "markdown",
   "metadata": {},
   "source": [
    "### **Principais Resultados**: Mais neurônios na camada oculta performam melhor com taxas menores de aprendizado"
   ]
  },
  {
   "cell_type": "markdown",
   "metadata": {},
   "source": [
    "![](imgs/f1cv_hidden_dim_lr.jpg)\n",
    "\n",
    "![](imgs/acccv_hidden_dim_lr.jpg)"
   ]
  },
  {
   "cell_type": "markdown",
   "metadata": {},
   "source": [
    "\n",
    "### **Disclaimers**"
   ]
  },
  {
   "cell_type": "markdown",
   "metadata": {},
   "source": [
    "Um número maior de épocas de treino e de tentativas (trials) de otimização de regularização Optuna poderiam aumentar a Acurácia e F1-score final dos modelos em geral, assim como um k maior de folds de validação cruzada poderia aumentar a confiabilidade do resultado final. Porém, devido à restrição de tempo (deadline de entrega do trabalho) optou-se por 50 épocas, 5 tentativas de otimização e 5 separações de dados para validação cruzada. Ainda assim, os resultados condizem com o esperado mediante teoria, e seguem as melhores práticas.\n"
   ]
  },
  {
   "cell_type": "markdown",
   "metadata": {},
   "source": [
    "# Carga e Visualização dos Dados"
   ]
  },
  {
   "cell_type": "code",
   "execution_count": 1,
   "metadata": {},
   "outputs": [
    {
     "name": "stdout",
     "output_type": "stream",
     "text": [
      "[  7   0  84 185 159 151  60  36 222 254 241 198 170  52  67 114  72 163\n",
      " 227 225 250 229 140  17  66  14  59  21 236 106  83 253 209  18  22 233\n",
      " 255 129 238  44 249  62 133 187   5   9 205 248  58 126 182  75 251 240\n",
      "  57  19 221 166   3 203 219  35  38  77  31 224 115   1  61 242 121  40\n",
      " 207]\n"
     ]
    },
    {
     "data": {
      "text/html": [
       "<div>\n",
       "<style scoped>\n",
       "    .dataframe tbody tr th:only-of-type {\n",
       "        vertical-align: middle;\n",
       "    }\n",
       "\n",
       "    .dataframe tbody tr th {\n",
       "        vertical-align: top;\n",
       "    }\n",
       "\n",
       "    .dataframe thead th {\n",
       "        text-align: right;\n",
       "    }\n",
       "</style>\n",
       "<table border=\"1\" class=\"dataframe\">\n",
       "  <thead>\n",
       "    <tr style=\"text-align: right;\">\n",
       "      <th></th>\n",
       "      <th>y</th>\n",
       "      <th>1</th>\n",
       "      <th>2</th>\n",
       "      <th>3</th>\n",
       "      <th>4</th>\n",
       "      <th>5</th>\n",
       "      <th>6</th>\n",
       "      <th>7</th>\n",
       "      <th>8</th>\n",
       "      <th>9</th>\n",
       "      <th>...</th>\n",
       "      <th>775</th>\n",
       "      <th>776</th>\n",
       "      <th>777</th>\n",
       "      <th>778</th>\n",
       "      <th>779</th>\n",
       "      <th>780</th>\n",
       "      <th>781</th>\n",
       "      <th>782</th>\n",
       "      <th>783</th>\n",
       "      <th>784</th>\n",
       "    </tr>\n",
       "  </thead>\n",
       "  <tbody>\n",
       "    <tr>\n",
       "      <th>0</th>\n",
       "      <td>7</td>\n",
       "      <td>0</td>\n",
       "      <td>0</td>\n",
       "      <td>0</td>\n",
       "      <td>0</td>\n",
       "      <td>0</td>\n",
       "      <td>0</td>\n",
       "      <td>0</td>\n",
       "      <td>0</td>\n",
       "      <td>0</td>\n",
       "      <td>...</td>\n",
       "      <td>0</td>\n",
       "      <td>0</td>\n",
       "      <td>0</td>\n",
       "      <td>0</td>\n",
       "      <td>0</td>\n",
       "      <td>0</td>\n",
       "      <td>0</td>\n",
       "      <td>0</td>\n",
       "      <td>0</td>\n",
       "      <td>0</td>\n",
       "    </tr>\n",
       "    <tr>\n",
       "      <th>1</th>\n",
       "      <td>2</td>\n",
       "      <td>0</td>\n",
       "      <td>0</td>\n",
       "      <td>0</td>\n",
       "      <td>0</td>\n",
       "      <td>0</td>\n",
       "      <td>0</td>\n",
       "      <td>0</td>\n",
       "      <td>0</td>\n",
       "      <td>0</td>\n",
       "      <td>...</td>\n",
       "      <td>0</td>\n",
       "      <td>0</td>\n",
       "      <td>0</td>\n",
       "      <td>0</td>\n",
       "      <td>0</td>\n",
       "      <td>0</td>\n",
       "      <td>0</td>\n",
       "      <td>0</td>\n",
       "      <td>0</td>\n",
       "      <td>0</td>\n",
       "    </tr>\n",
       "  </tbody>\n",
       "</table>\n",
       "<p>2 rows × 785 columns</p>\n",
       "</div>"
      ],
      "text/plain": [
       "   y  1  2  3  4  5  6  7  8  9  ...  775  776  777  778  779  780  781  782  \\\n",
       "0  7  0  0  0  0  0  0  0  0  0  ...    0    0    0    0    0    0    0    0   \n",
       "1  2  0  0  0  0  0  0  0  0  0  ...    0    0    0    0    0    0    0    0   \n",
       "\n",
       "   783  784  \n",
       "0    0    0  \n",
       "1    0    0  \n",
       "\n",
       "[2 rows x 785 columns]"
      ]
     },
     "execution_count": 1,
     "metadata": {},
     "output_type": "execute_result"
    },
    {
     "data": {
      "image/png": "[encoded data removed]",
      "text/plain": [
       "<Figure size 640x480 with 1 Axes>"
      ]
     },
     "metadata": {},
     "output_type": "display_data"
    }
   ],
   "source": [
    "import pandas as pd\n",
    "import numpy as np\n",
    "import matplotlib.pyplot as plt\n",
    "\n",
    "np.random.seed(42)\n",
    "\n",
    "data = pd.read_csv('data_tp1.csv',header=None)\n",
    "data = data.rename(columns={0:'y'})\n",
    "print(data.iloc[0,:].unique())\n",
    "\n",
    "imsize = round(np.sqrt(784)+1)\n",
    "linha_y = 4\n",
    "img = np.reshape(data.iloc[linha_y,1:].values, (imsize-1,imsize-1))\n",
    "plt.imshow(255-img,cmap='gray')\n",
    "\n",
    "data.head(2)"
   ]
  },
  {
   "cell_type": "markdown",
   "metadata": {},
   "source": [
    "# Definição do formato do modelo e dos dados"
   ]
  },
  {
   "cell_type": "code",
   "execution_count": 2,
   "metadata": {},
   "outputs": [
    {
     "name": "stdout",
     "output_type": "stream",
     "text": [
      "(3350, 784)\n",
      "(3350,)\n",
      "(784,)\n",
      "7\n",
      "Shape, type: X: torch.Size([25, 784]) torch.float32\n",
      "Shape, type: y: torch.Size([25]) torch.int64\n"
     ]
    }
   ],
   "source": [
    "from torch.utils.data import DataLoader, Dataset\n",
    "import torch\n",
    "from sklearn.model_selection import train_test_split\n",
    "\n",
    "y = data.y.values\n",
    "X = data.drop(columns='y').values\n",
    "\n",
    "X_train, X_test, y_train, y_test = train_test_split(\n",
    "    X, y, test_size=0.33, random_state=42)\n",
    "\n",
    "print(X_train.shape)\n",
    "print(y_train.shape)\n",
    "idx = 0\n",
    "print((X_train[idx,:]).shape)\n",
    "print(y_train[idx])\n",
    "(y_train[idx]).shape \n",
    "\n",
    "# Pytorch exige que seja utilizado um dataset por algum motivo aparentemente\n",
    "class custom_mnist_dataset():\n",
    "    def __init__(self, X,y):\n",
    "        self.X = X\n",
    "        self.y = y\n",
    "\n",
    "    def __len__(self):\n",
    "        return len(self.X)\n",
    "\n",
    "    def __getitem__(self, idx):\n",
    "        # Restrições de uso do pytorch: (leia os docs...)\n",
    "        # inputs tem que ser float para multiplicar pelos pesos, \n",
    "        # outputs tem que ser longint para calcular crossentropy \n",
    "        return torch.tensor(self.X[idx,:], dtype=torch.float), self.y[idx]\n",
    "\n",
    "training_data = custom_mnist_dataset(X = X_train, y = y_train)\n",
    "test_data = custom_mnist_dataset(X = X_test, y = y_test)\n",
    "\n",
    "# batch_size de exemplo para teste\n",
    "batch_size = 25\n",
    "\n",
    "# Create data loaders.\n",
    "train_dataloader = DataLoader(training_data, batch_size=batch_size)\n",
    "test_dataloader = DataLoader(test_data, batch_size=batch_size)\n",
    "\n",
    "for X, y in test_dataloader:\n",
    "    print(f\"Shape, type: X: {X.shape} {X.dtype}\")\n",
    "    print(f\"Shape, type: y: {y.shape} {y.dtype}\")\n",
    "    break\n",
    "    "
   ]
  },
  {
   "cell_type": "code",
   "execution_count": 3,
   "metadata": {},
   "outputs": [
    {
     "name": "stdout",
     "output_type": "stream",
     "text": [
      "Using cpu device\n"
     ]
    }
   ],
   "source": [
    "# Get cpu, gpu or mps device for training.\n",
    "device = (\"cpu\")\n",
    "print(f\"Using {device} device\")"
   ]
  },
  {
   "cell_type": "code",
   "execution_count": 4,
   "metadata": {},
   "outputs": [
    {
     "name": "stdout",
     "output_type": "stream",
     "text": [
      "NeuralNetwork(\n",
      "  (entrada): Linear(in_features=784, out_features=25, bias=True)\n",
      "  (oculta): Linear(in_features=25, out_features=25, bias=True)\n",
      "  (saida): Linear(in_features=25, out_features=10, bias=True)\n",
      ")\n"
     ]
    }
   ],
   "source": [
    "from torch import nn\n",
    "import torch.nn.functional as F\n",
    "\n",
    "\"\"\"\n",
    "NeuralNetwork tem 3 camadas, com ativação sigmóide na camada oculta cujo tamanho será ajustado.\n",
    "\"\"\"\n",
    "class NeuralNetwork(nn.Module):\n",
    "    def __init__(self, input_size, hidden_dim, output_size):\n",
    "        super(NeuralNetwork, self).__init__()\n",
    "\n",
    "        self.entrada = nn.Linear(input_size, hidden_dim)\n",
    "        self.oculta = nn.Linear(hidden_dim, hidden_dim)\n",
    "        self.saida = nn.Linear(hidden_dim, output_size)\n",
    "\n",
    "    def forward(self, input):\n",
    "\n",
    "        x1 = self.entrada(input)\n",
    "        x2 = F.sigmoid(self.oculta(x1))\n",
    "        x3 = self.saida(x2)\n",
    "\n",
    "        return x3\n",
    "    \n",
    "# Exemplo hidden dim = 25\n",
    "print(NeuralNetwork(input_size = X_train.shape[1], hidden_dim= 25, output_size=10).to(device))\n"
   ]
  },
  {
   "cell_type": "markdown",
   "metadata": {},
   "source": [
    "# Definição dos passos de treino e teste"
   ]
  },
  {
   "cell_type": "code",
   "execution_count": 5,
   "metadata": {},
   "outputs": [],
   "source": [
    "# Referência utilizada e adaptada:\n",
    "# https://www.kaggle.com/code/shrutimechlearn/pytorch-custom-model-step-by-step\n",
    "\n",
    "def train_step(model, loss_func, optimizer, dataloader):\n",
    "    \n",
    "    # to capture loss\n",
    "    train_loss = 0 \n",
    "\n",
    "    # to get the model in training mode\n",
    "    model.train()\n",
    "    \n",
    "    for batch, (x_batch, y_batch) in enumerate(dataloader):\n",
    "        # sending data to the device where rest of the artifacts are\n",
    "        x_batch, y_batch = x_batch.to(device), y_batch.to(device)\n",
    "        \n",
    "        # forward pass/model prediction with the given input\n",
    "        y_pred = model(x_batch)\n",
    "        \n",
    "        # loss calculation by comparison between predicted and ground truth values\n",
    "        loss = loss_func(y_pred, y_batch)\n",
    "        train_loss += loss.item()\n",
    "    \n",
    "        # setting previously collected gradient values in the optimizer to zero so it translates only current gradients\n",
    "        optimizer.zero_grad()\n",
    "        \n",
    "        # calculate the gradients for this iteration (independent gradients because previous values have been reset to 0)\n",
    "        loss.backward()\n",
    "        \n",
    "        # update the weights and biases based on the calculated gradients ~(wi = wi + delta_wi)\n",
    "        optimizer.step()\n",
    "\n",
    "    # Adjust metrics to get average loss and accuracy per batch \n",
    "    train_loss = train_loss / len(dataloader)\n",
    "\n",
    "    return train_loss"
   ]
  },
  {
   "cell_type": "code",
   "execution_count": 6,
   "metadata": {},
   "outputs": [],
   "source": [
    "from sklearn.metrics import accuracy_score, precision_score, recall_score, f1_score\n",
    "\n",
    "def test_step(model, loss_func, test_dataloader):\n",
    "    \n",
    "    test_loss = 0\n",
    "    \n",
    "    model.eval()\n",
    "    total_preds = []\n",
    "    total_labels = []\n",
    "    \n",
    "    with torch.inference_mode():\n",
    "        \n",
    "        for batch, (x_batch, y_batch) in enumerate(test_dataloader):\n",
    "            \n",
    "            x_batch, y_batch = x_batch.to(device), y_batch.to(device)\n",
    "            y_pred = model(x_batch)\n",
    "            \n",
    "            loss = loss_func(y_pred, y_batch)\n",
    "            test_loss+= loss.item()\n",
    "\n",
    "            _, preds = torch.max(y_pred, dim=1)\n",
    "            total_preds.extend(preds.cpu().numpy())\n",
    "            total_labels.extend(y_batch.cpu().numpy())\n",
    "\n",
    "    test_loss = test_loss/len(test_dataloader)  \n",
    "    \n",
    "    accuracy = accuracy_score(total_labels, total_preds)\n",
    "    precision = precision_score(total_labels, total_preds, average='weighted', labels=np.unique(total_preds))\n",
    "    recall = recall_score(total_labels, total_preds, average='weighted', labels=np.unique(total_preds))\n",
    "    f1 = f1_score(total_labels, total_preds, average='weighted', labels=np.unique(total_preds))\n",
    "\n",
    "    return accuracy, precision, recall, f1, test_loss\n",
    "            "
   ]
  },
  {
   "cell_type": "code",
   "execution_count": 7,
   "metadata": {},
   "outputs": [],
   "source": [
    "import mlflow\n",
    "\n",
    "def train_and_evaluate_model(model, loss_func, optimizer, train_dataloader, val_dataloader, n_epochs, lr, hds, bs,weight_decay,i):   \n",
    "    with mlflow.start_run(run_name=f\"Test  #{i}\", nested = True):  # Name each run based on the learning rate\n",
    "        mlflow.log_param(\"weight_decay\", weight_decay)\n",
    "        mlflow.log_param(\"batch_size\", bs)\n",
    "        mlflow.log_param(\"hidden_dim\", hds)\n",
    "        mlflow.log_param(\"lr\", lr)        \n",
    "\n",
    "        model.train()  # Set the model to training mode\n",
    "        train_losses = []\n",
    "        val_losses = []\n",
    "        accuracies = []\n",
    "        f1_scores = []\n",
    "\n",
    "        train_loss = []\n",
    "        test_loss = []\n",
    "    \n",
    "        for epoch in range(n_epochs):\n",
    "            \n",
    "            tr_loss = train_step(model, loss_func, optimizer, train_dataloader)\n",
    "\n",
    "            accuracy, precision, recall, f1, ts_loss = test_step(model, loss_func, test_dataloader)\n",
    "            \n",
    "            test_loss.append(ts_loss)   \n",
    "            train_losses.append(tr_loss)\n",
    "            accuracies.append(accuracy)\n",
    "            f1_scores.append(f1)\n",
    "\n",
    "            mlflow.log_metric(\"loss\", tr_loss, step = epoch)\n",
    "            mlflow.log_metric(\"val_loss\", ts_loss, step = epoch)\n",
    "            mlflow.log_metric(\"diff_loss_tr_ts\", tr_loss-ts_loss, step = epoch)\n",
    "\n",
    "            mlflow.log_metric(\"accuracy\", accuracy, step = epoch)\n",
    "            mlflow.log_metric(\"precision\", precision, step = epoch)\n",
    "            mlflow.log_metric(\"recall\", recall, step = epoch)\n",
    "            mlflow.log_metric(\"f1\", f1, step = epoch)  \n",
    "\n",
    "            \n",
    "            \n",
    "    return train_losses, val_losses, accuracies, f1_scores"
   ]
  },
  {
   "cell_type": "markdown",
   "metadata": {},
   "source": [
    "# Definição dos testes automatizados e registro"
   ]
  },
  {
   "cell_type": "code",
   "execution_count": 8,
   "metadata": {},
   "outputs": [],
   "source": [
    "import optuna\n",
    "from sklearn.model_selection import StratifiedKFold\n",
    "import torch.optim as optim\n",
    "from torch import nn\n",
    "from datetime import datetime\n",
    "\n",
    "def objective(trial, lr, hds, bs, X_train, y_train,n_epochs,n_splits,experiment_id):\n",
    "    \n",
    "    # Suggest regularization parameter using the trial object\n",
    "    weight_decay = trial.suggest_float('weight_decay', 1e-5, 1)\n",
    "\n",
    "    text = \"Experiment - lr({lr}) hds({hds}) bs({bs}) wd({wd})\".format(lr =lr,hds=hds,bs =bs,wd = weight_decay)\n",
    "    with mlflow.start_run(run_name=text, experiment_id = experiment_id):\n",
    "        \n",
    "        # Initialize the model with fixed hyperparameters and suggested regularization\n",
    "        model = NeuralNetwork(input_size=X_train.shape[1], hidden_dim=hds, output_size=10).to(device)\n",
    "        optimizer = optim.SGD(model.parameters(), lr=lr, weight_decay=weight_decay)\n",
    "        loss_func = nn.CrossEntropyLoss()\n",
    "        \n",
    "        # Perform k-fold cross-validation\n",
    "        skf = StratifiedKFold(n_splits=n_splits, shuffle=True, random_state=42)\n",
    "        cv_scores = {\"accuracy\": [], \"f1\": []}\n",
    "        fold = 1\n",
    "\n",
    "        for train_index, val_index in skf.split(X_train, y_train):\n",
    "            X_train_fold, X_val_fold = X_train[train_index], X_train[val_index]\n",
    "            y_train_fold, y_val_fold = y_train[train_index], y_train[val_index]\n",
    "            train_dataloader_fold = DataLoader(custom_mnist_dataset(X=X_train_fold, y=y_train_fold), batch_size=bs)\n",
    "            val_dataloader_fold = DataLoader(custom_mnist_dataset(X=X_val_fold, y=y_val_fold), batch_size=bs)\n",
    "\n",
    "            # Train and evaluate the model for this fold\n",
    "            train_loss, test_loss, accuracy, f1 = train_and_evaluate_model(\n",
    "                model, loss_func, optimizer, train_dataloader_fold, val_dataloader_fold, n_epochs=n_epochs, \n",
    "                lr=lr, hds=hds, bs=bs, weight_decay = weight_decay, i=fold)\n",
    "            \n",
    "            fold = fold+1\n",
    "\n",
    "            # Calculate average scores across all folds\n",
    "            cv_scores[\"accuracy\"].append(accuracy)\n",
    "            cv_scores[\"f1\"].append(f1)\n",
    "\n",
    "        # Return the average cross-validated scores\n",
    "        mlflow.log_param(\"weight_decay\", weight_decay)\n",
    "        mlflow.log_param(\"batch_size\", bs)\n",
    "        mlflow.log_param(\"hidden_dim\", hds)\n",
    "        mlflow.log_param(\"lr\", lr)      \n",
    "        mlflow.log_metric(\"cv-accuracy\", np.mean(cv_scores[\"accuracy\"]))\n",
    "        mlflow.log_metric(\"cv-f1\",  np.mean(cv_scores[\"f1\"]))  \n",
    "                \n",
    "        return np.mean(cv_scores[\"accuracy\"]), np.mean(cv_scores[\"f1\"])"
   ]
  },
  {
   "cell_type": "markdown",
   "metadata": {},
   "source": [
    "# Execução do Treino e Teste"
   ]
  },
  {
   "cell_type": "markdown",
   "metadata": {},
   "source": [
    "**LEMBRE-SE DE ATIVAR O SERVIDOR MLFLOW:**\n",
    "``` bash\n",
    "\n",
    "mlflow server --host 127.0.0.1 --port 5000\n",
    "\n",
    "```"
   ]
  },
  {
   "cell_type": "code",
   "execution_count": 9,
   "metadata": {},
   "outputs": [
    {
     "name": "stderr",
     "output_type": "stream",
     "text": [
      "2024/06/15 18:59:32 WARNING mlflow.utils.autologging_utils: You are using an unsupported version of sklearn. If you encounter errors during autologging, try upgrading / downgrading sklearn to a supported version, or try upgrading MLflow.\n",
      "2024/06/15 18:59:32 INFO mlflow.tracking.fluent: Autologging successfully enabled for sklearn.\n"
     ]
    },
    {
     "name": "stdout",
     "output_type": "stream",
     "text": [
      "20240615T185932\n"
     ]
    },
    {
     "name": "stderr",
     "output_type": "stream",
     "text": [
      "2024/06/15 18:59:34 INFO mlflow.tracking.fluent: Experiment with name 'TP1ML - 20240615T185932' does not exist. Creating a new experiment.\n",
      "[I 2024-06-15 18:59:34,879] A new study created in memory with name: Study - lr(0.5) hds(25) bs(1) - 20240615T185932\n",
      "[I 2024-06-15 19:11:53,582] Trial 0 finished with values: [0.1011709090909091, 0.1762214275085511] and parameters: {'weight_decay': 0.4969197769446497}. \n",
      "[I 2024-06-15 19:23:56,269] Trial 1 finished with values: [0.10282181818181818, 0.18711196559337465] and parameters: {'weight_decay': 0.010288503066901725}. \n",
      "[I 2024-06-15 19:36:07,604] Trial 2 finished with values: [0.10074909090909091, 0.1772468251741716] and parameters: {'weight_decay': 0.1395736409115515}. \n",
      "[I 2024-06-15 19:48:01,347] Trial 3 finished with values: [0.10900121212121212, 0.20542707384389394] and parameters: {'weight_decay': 0.0017685051110538882}. \n",
      "[I 2024-06-15 20:00:22,784] Trial 4 finished with values: [0.10080242424242425, 0.1772197358576269] and parameters: {'weight_decay': 0.6614360236951887}. \n",
      "[I 2024-06-15 20:00:22,784] A new study created in memory with name: Study - lr(0.5) hds(25) bs(10) - 20240615T185932\n",
      "[I 2024-06-15 20:03:46,606] Trial 0 finished with values: [0.09852363636363637, 0.17232837783508537] and parameters: {'weight_decay': 0.7400787755701247}. \n",
      "[I 2024-06-15 20:07:14,475] Trial 1 finished with values: [0.099689696969697, 0.17192167655237148] and parameters: {'weight_decay': 0.45866519874354333}. \n",
      "[I 2024-06-15 20:10:40,061] Trial 2 finished with values: [0.09845818181818185, 0.17257174407631198] and parameters: {'weight_decay': 0.6448449099617419}. \n",
      "[I 2024-06-15 20:14:04,517] Trial 3 finished with values: [0.09899151515151518, 0.16998965196089325] and parameters: {'weight_decay': 0.8435764567188216}. \n",
      "[I 2024-06-15 20:17:30,207] Trial 4 finished with values: [0.09881696969696971, 0.17262972308501595] and parameters: {'weight_decay': 0.6599201465127624}. \n",
      "[I 2024-06-15 20:17:30,208] A new study created in memory with name: Study - lr(0.5) hds(25) bs(50) - 20240615T185932\n",
      "[I 2024-06-15 20:19:21,487] Trial 0 finished with values: [0.13093818181818181, 0.23097372963115742] and parameters: {'weight_decay': 0.3023450536517061}. \n",
      "[I 2024-06-15 20:21:11,148] Trial 1 finished with values: [0.10971878787878789, 0.19719654022610872] and parameters: {'weight_decay': 0.5895943297631165}. \n",
      "[I 2024-06-15 20:23:01,530] Trial 2 finished with values: [0.21306424242424243, 0.28870457580157277] and parameters: {'weight_decay': 0.1436868920147983}. \n",
      "[I 2024-06-15 20:24:52,062] Trial 3 finished with values: [0.10311757575757577, 0.17187873971878806] and parameters: {'weight_decay': 0.8221719149379093}. \n",
      "[I 2024-06-15 20:26:42,428] Trial 4 finished with values: [0.1141478787878788, 0.1897503814581119] and parameters: {'weight_decay': 0.436732399728667}. \n",
      "[I 2024-06-15 20:26:42,428] A new study created in memory with name: Study - lr(0.5) hds(25) bs(3350) - 20240615T185932\n",
      "[I 2024-06-15 20:28:05,440] Trial 0 finished with values: [0.1383612121212121, 0.22566202004665775] and parameters: {'weight_decay': 0.49941770498843974}. \n",
      "[I 2024-06-15 20:29:28,402] Trial 1 finished with values: [0.14158060606060605, 0.21666443792451145] and parameters: {'weight_decay': 0.4410677970914048}. \n",
      "[I 2024-06-15 20:30:50,847] Trial 2 finished with values: [0.4192848484848484, 0.37991346498828554] and parameters: {'weight_decay': 0.11902718809242922}. \n",
      "[I 2024-06-15 20:32:14,960] Trial 3 finished with values: [0.287750303030303, 0.27711553307614567] and parameters: {'weight_decay': 0.18671402016727942}. \n",
      "[I 2024-06-15 20:33:37,284] Trial 4 finished with values: [0.1319587878787879, 0.21675791741108577] and parameters: {'weight_decay': 0.4862753863545111}. \n",
      "[I 2024-06-15 20:33:37,286] A new study created in memory with name: Study - lr(0.5) hds(50) bs(1) - 20240615T185932\n"
     ]
    },
    {
     "name": "stdout",
     "output_type": "stream",
     "text": [
      "{'best_accuracy': 0.14158060606060605, 'best_f1': 0.21666443792451145}\n"
     ]
    },
    {
     "name": "stderr",
     "output_type": "stream",
     "text": [
      "[I 2024-06-15 20:54:07,372] Trial 0 finished with values: [0.10007757575757575, 0.1754937289874195] and parameters: {'weight_decay': 0.7229274614155693}. \n",
      "[I 2024-06-15 21:14:11,908] Trial 1 finished with values: [0.10294545454545455, 0.18615002798881944] and parameters: {'weight_decay': 0.021624476048207174}. \n",
      "[I 2024-06-15 21:35:01,786] Trial 2 finished with values: [0.09961939393939394, 0.1741169141877573] and parameters: {'weight_decay': 0.5000545616630541}. \n",
      "[I 2024-06-15 21:55:44,446] Trial 3 finished with values: [0.10139878787878788, 0.17963830901618447] and parameters: {'weight_decay': 0.4614536024777997}. \n",
      "[I 2024-06-15 22:16:47,889] Trial 4 finished with values: [0.0998060606060606, 0.1725515452220621] and parameters: {'weight_decay': 0.3531495208110388}. \n",
      "[I 2024-06-15 22:16:47,889] A new study created in memory with name: Study - lr(0.5) hds(50) bs(10) - 20240615T185932\n",
      "[I 2024-06-15 22:20:27,670] Trial 0 finished with values: [0.11103515151515155, 0.19623875299352753] and parameters: {'weight_decay': 0.10103246573292002}. \n",
      "[I 2024-06-15 22:24:04,348] Trial 1 finished with values: [0.09812121212121212, 0.16730506503147444] and parameters: {'weight_decay': 0.8394680220883496}. \n",
      "[I 2024-06-15 22:27:51,915] Trial 2 finished with values: [0.12456484848484849, 0.23771808610840714] and parameters: {'weight_decay': 0.015938320311415503}. \n",
      "[I 2024-06-15 22:31:48,394] Trial 3 finished with values: [0.10000969696969698, 0.17604546970121498] and parameters: {'weight_decay': 0.29941605858279013}. \n",
      "[I 2024-06-15 22:35:26,690] Trial 4 finished with values: [0.09890424242424242, 0.17225422824412034] and parameters: {'weight_decay': 0.3746520663611909}. \n",
      "[I 2024-06-15 22:35:26,690] A new study created in memory with name: Study - lr(0.5) hds(50) bs(50) - 20240615T185932\n",
      "[I 2024-06-15 22:37:25,745] Trial 0 finished with values: [0.10995878787878789, 0.18932181272809864] and parameters: {'weight_decay': 0.34230050653638866}. \n",
      "[I 2024-06-15 22:39:23,367] Trial 1 finished with values: [0.10273696969696972, 0.17019021312556604] and parameters: {'weight_decay': 0.5587884048785265}. \n",
      "[I 2024-06-15 22:41:21,855] Trial 2 finished with values: [0.10978424242424244, 0.1875466701765697] and parameters: {'weight_decay': 0.3587827086462893}. \n",
      "[I 2024-06-15 22:43:18,625] Trial 3 finished with values: [0.10145212121212122, 0.17291746886476703] and parameters: {'weight_decay': 0.9514925671015037}. \n",
      "[I 2024-06-15 22:45:21,750] Trial 4 finished with values: [0.29931878787878785, 0.31172957687189545] and parameters: {'weight_decay': 0.07270942676711512}. \n",
      "[I 2024-06-15 22:45:21,750] A new study created in memory with name: Study - lr(0.5) hds(50) bs(3350) - 20240615T185932\n",
      "[I 2024-06-15 22:46:49,883] Trial 0 finished with values: [0.23240484848484846, 0.24738009542677095] and parameters: {'weight_decay': 0.23626992411215847}. \n",
      "[I 2024-06-15 22:48:18,949] Trial 1 finished with values: [0.1250230303030303, 0.2015123660041185] and parameters: {'weight_decay': 0.5561590009374099}. \n",
      "[I 2024-06-15 22:49:48,800] Trial 2 finished with values: [0.6299466666666668, 0.6073331532076081] and parameters: {'weight_decay': 0.0516672630602507}. \n",
      "[I 2024-06-15 22:51:20,335] Trial 3 finished with values: [0.5024436363636364, 0.47544522973713405] and parameters: {'weight_decay': 0.08856947832695411}. \n",
      "[I 2024-06-15 22:52:49,601] Trial 4 finished with values: [0.17632, 0.25812382878024775] and parameters: {'weight_decay': 0.33025890870356317}. \n",
      "[I 2024-06-15 22:52:49,601] A new study created in memory with name: Study - lr(0.5) hds(100) bs(1) - 20240615T185932\n"
     ]
    },
    {
     "name": "stdout",
     "output_type": "stream",
     "text": [
      "{'best_accuracy': 0.1250230303030303, 'best_f1': 0.2015123660041185}\n"
     ]
    },
    {
     "name": "stderr",
     "output_type": "stream",
     "text": [
      "[I 2024-06-15 23:15:46,645] Trial 0 finished with values: [0.10080242424242425, 0.1733669303372665] and parameters: {'weight_decay': 0.856421076259002}. \n",
      "[I 2024-06-15 23:38:22,591] Trial 1 finished with values: [0.09952242424242425, 0.1730051784043847] and parameters: {'weight_decay': 0.6416318771399899}. \n",
      "[I 2024-06-16 00:00:22,377] Trial 2 finished with values: [0.09968484848484849, 0.17545126060721877] and parameters: {'weight_decay': 0.4482149399502689}. \n",
      "[I 2024-06-16 00:22:18,139] Trial 3 finished with values: [0.09900121212121211, 0.17158055819482804] and parameters: {'weight_decay': 0.3897059536564453}. \n",
      "[I 2024-06-16 00:44:20,744] Trial 4 finished with values: [0.1002909090909091, 0.1778627126189846] and parameters: {'weight_decay': 0.5390689491338657}. \n",
      "[I 2024-06-16 00:44:20,744] A new study created in memory with name: Study - lr(0.5) hds(100) bs(10) - 20240615T185932\n",
      "[I 2024-06-16 00:48:18,341] Trial 0 finished with values: [0.1146569696969697, 0.1951106068309163] and parameters: {'weight_decay': 0.04969693292064395}. \n",
      "[I 2024-06-16 00:52:10,629] Trial 1 finished with values: [0.09858424242424244, 0.1726286857242852] and parameters: {'weight_decay': 0.6650059882629756}. \n",
      "[I 2024-06-16 00:56:08,303] Trial 2 finished with values: [0.10667878787878789, 0.18080108744958995] and parameters: {'weight_decay': 0.09993848698535544}. \n",
      "[I 2024-06-16 00:59:55,807] Trial 3 finished with values: [0.09915393939393939, 0.17239808978177168] and parameters: {'weight_decay': 0.8468700770796592}. \n",
      "[I 2024-06-16 01:03:47,378] Trial 4 finished with values: [0.09942545454545455, 0.173779271694437] and parameters: {'weight_decay': 0.2880486289442457}. \n",
      "[I 2024-06-16 01:03:47,380] A new study created in memory with name: Study - lr(0.5) hds(100) bs(50) - 20240615T185932\n",
      "[I 2024-06-16 01:05:52,496] Trial 0 finished with values: [0.10151757575757576, 0.16989654084181002] and parameters: {'weight_decay': 0.5540304112990978}. \n",
      "[I 2024-06-16 01:07:57,448] Trial 1 finished with values: [0.10978181818181817, 0.1914943626953786] and parameters: {'weight_decay': 0.23233815354415957}. \n",
      "[I 2024-06-16 01:10:02,611] Trial 2 finished with values: [0.09960727272727274, 0.1722728725263248] and parameters: {'weight_decay': 0.4295802537682321}. \n",
      "[I 2024-06-16 01:12:09,292] Trial 3 finished with values: [0.10438060606060609, 0.17933913788595102] and parameters: {'weight_decay': 0.29194635785054074}. \n",
      "[I 2024-06-16 01:14:21,887] Trial 4 finished with values: [0.29659636363636366, 0.36407716026247766] and parameters: {'weight_decay': 0.010416861647592134}. \n",
      "[I 2024-06-16 01:14:21,889] A new study created in memory with name: Study - lr(0.5) hds(100) bs(3350) - 20240615T185932\n",
      "[I 2024-06-16 01:15:55,239] Trial 0 finished with values: [0.10695515151515152, 0.18569627364409316] and parameters: {'weight_decay': 0.8958994873854987}. \n",
      "[I 2024-06-16 01:17:31,094] Trial 1 finished with values: [0.6304678787878788, 0.6137098196612213] and parameters: {'weight_decay': 0.046506141130721004}. \n",
      "[I 2024-06-16 01:19:00,944] Trial 2 finished with values: [0.11152242424242426, 0.1797081211201666] and parameters: {'weight_decay': 0.7293638372930017}. \n",
      "[I 2024-06-16 01:20:32,832] Trial 3 finished with values: [0.10908848484848485, 0.17983283072157144] and parameters: {'weight_decay': 0.653465843812582}. \n",
      "[I 2024-06-16 01:22:04,417] Trial 4 finished with values: [0.1675660606060606, 0.22106608777679917] and parameters: {'weight_decay': 0.24522659995838414}. \n",
      "[I 2024-06-16 01:22:04,417] A new study created in memory with name: Study - lr(1) hds(25) bs(1) - 20240615T185932\n"
     ]
    },
    {
     "name": "stdout",
     "output_type": "stream",
     "text": [
      "{'best_accuracy': 0.10695515151515152, 'best_f1': 0.18569627364409316}\n"
     ]
    },
    {
     "name": "stderr",
     "output_type": "stream",
     "text": [
      "[I 2024-06-16 01:33:13,113] Trial 0 finished with values: [0.10024242424242424, 0.18219003003340334] and parameters: {'weight_decay': 0.8764686118791686}. \n",
      "[I 2024-06-16 01:44:14,826] Trial 1 finished with values: [0.10024242424242424, 0.18219003003340334] and parameters: {'weight_decay': 0.7309250053382675}. \n",
      "[I 2024-06-16 01:55:53,378] Trial 2 finished with values: [0.0996921212121212, 0.17557886284764973] and parameters: {'weight_decay': 0.2654840721963697}. \n",
      "[I 2024-06-16 02:06:57,940] Trial 3 finished with values: [0.09987393939393939, 0.17897050937989553] and parameters: {'weight_decay': 0.5229407046797734}. \n",
      "[I 2024-06-16 02:18:40,046] Trial 4 finished with values: [0.10047030303030303, 0.17969460848269808] and parameters: {'weight_decay': 0.15373767723781473}. \n",
      "[I 2024-06-16 02:18:40,048] A new study created in memory with name: Study - lr(1) hds(25) bs(10) - 20240615T185932\n",
      "[I 2024-06-16 02:22:05,667] Trial 0 finished with values: [0.09869818181818184, 0.17449127389958569] and parameters: {'weight_decay': 0.14774689566397697}. \n",
      "[I 2024-06-16 02:25:35,506] Trial 1 finished with values: [0.09876363636363637, 0.17274749623725563] and parameters: {'weight_decay': 0.23021386606193095}. \n",
      "[I 2024-06-16 02:28:56,966] Trial 2 finished with values: [0.09939636363636364, 0.17867139308814406] and parameters: {'weight_decay': 0.715275099523159}. \n",
      "[I 2024-06-16 02:32:24,825] Trial 3 finished with values: [0.0996387878787879, 0.17394865126688674] and parameters: {'weight_decay': 0.42182104353459066}. \n",
      "[I 2024-06-16 02:35:46,019] Trial 4 finished with values: [0.09917575757575758, 0.17722925470747602] and parameters: {'weight_decay': 0.7644161967228084}. \n",
      "[I 2024-06-16 02:35:46,019] A new study created in memory with name: Study - lr(1) hds(25) bs(50) - 20240615T185932\n",
      "[I 2024-06-16 02:37:40,496] Trial 0 finished with values: [0.0976630303030303, 0.17825143086365045] and parameters: {'weight_decay': 0.8686776362467383}. \n",
      "[I 2024-06-16 02:39:36,778] Trial 1 finished with values: [0.09842909090909091, 0.1716994800341708] and parameters: {'weight_decay': 0.5342901232584997}. \n",
      "[I 2024-06-16 02:41:34,800] Trial 2 finished with values: [0.12218424242424243, 0.2105453557158635] and parameters: {'weight_decay': 0.11380109947234983}. \n",
      "[I 2024-06-16 02:43:31,577] Trial 3 finished with values: [0.09747393939393939, 0.16883482103413283] and parameters: {'weight_decay': 0.47869419319115875}. \n",
      "[I 2024-06-16 02:45:26,704] Trial 4 finished with values: [0.09795636363636363, 0.17099229667114227] and parameters: {'weight_decay': 0.5234826230327412}. \n",
      "[I 2024-06-16 02:45:26,705] A new study created in memory with name: Study - lr(1) hds(25) bs(3350) - 20240615T185932\n",
      "[I 2024-06-16 02:46:54,537] Trial 0 finished with values: [0.09797818181818183, 0.17669127495423625] and parameters: {'weight_decay': 0.8946708277358413}. \n",
      "[I 2024-06-16 02:48:25,152] Trial 1 finished with values: [0.09833212121212122, 0.17703269190893345] and parameters: {'weight_decay': 0.9817709528700538}. \n",
      "[I 2024-06-16 02:49:53,152] Trial 2 finished with values: [0.11568, 0.194302289235724] and parameters: {'weight_decay': 0.42440933656036506}. \n",
      "[I 2024-06-16 02:51:22,718] Trial 3 finished with values: [0.11226181818181817, 0.19058755659738072] and parameters: {'weight_decay': 0.43767934639788436}. \n",
      "[I 2024-06-16 02:52:50,184] Trial 4 finished with values: [0.10634909090909091, 0.18434851145669637] and parameters: {'weight_decay': 0.6185925203838172}. \n",
      "[I 2024-06-16 02:52:50,184] A new study created in memory with name: Study - lr(1) hds(50) bs(1) - 20240615T185932\n"
     ]
    },
    {
     "name": "stdout",
     "output_type": "stream",
     "text": [
      "{'best_accuracy': 0.09797818181818183, 'best_f1': 0.17669127495423625}\n"
     ]
    },
    {
     "name": "stderr",
     "output_type": "stream",
     "text": [
      "[I 2024-06-16 03:11:45,061] Trial 0 finished with values: [0.10036606060606061, 0.18049896973486296] and parameters: {'weight_decay': 0.6688929603097816}. \n",
      "[I 2024-06-16 03:30:38,004] Trial 1 finished with values: [0.10019636363636363, 0.17983707125548506] and parameters: {'weight_decay': 0.82397439170554}. \n",
      "[I 2024-06-16 03:50:30,136] Trial 2 finished with values: [0.0995660606060606, 0.17808350690652855] and parameters: {'weight_decay': 0.31784888426387986}. \n",
      "[I 2024-06-16 04:09:30,812] Trial 3 finished with values: [0.09983515151515153, 0.1783610096226238] and parameters: {'weight_decay': 0.5536819778500607}. \n",
      "[I 2024-06-16 04:29:29,516] Trial 4 finished with values: [0.09971636363636364, 0.17618045845304237] and parameters: {'weight_decay': 0.2770237580990152}. \n",
      "[I 2024-06-16 04:29:29,518] A new study created in memory with name: Study - lr(1) hds(50) bs(10) - 20240615T185932\n",
      "[I 2024-06-16 04:33:07,400] Trial 0 finished with values: [0.10194181818181819, 0.17672454741921473] and parameters: {'weight_decay': 0.06892918795493053}. \n",
      "[I 2024-06-16 04:36:47,223] Trial 1 finished with values: [0.11134545454545455, 0.20601436735825204] and parameters: {'weight_decay': 0.008110813498305527}. \n",
      "[I 2024-06-16 04:40:20,116] Trial 2 finished with values: [0.09890424242424242, 0.1788625101897556] and parameters: {'weight_decay': 0.8973150271825097}. \n",
      "[I 2024-06-16 04:43:56,758] Trial 3 finished with values: [0.10994666666666669, 0.1997967687036254] and parameters: {'weight_decay': 0.007997633409057995}. \n",
      "[I 2024-06-16 04:47:33,236] Trial 4 finished with values: [0.0986448484848485, 0.17445715503870132] and parameters: {'weight_decay': 0.4827919536547544}. \n",
      "[I 2024-06-16 04:47:33,238] A new study created in memory with name: Study - lr(1) hds(50) bs(50) - 20240615T185932\n",
      "[I 2024-06-16 04:49:33,191] Trial 0 finished with values: [0.09692121212121213, 0.17080598207725758] and parameters: {'weight_decay': 0.7308633301997299}. \n",
      "[I 2024-06-16 04:51:32,361] Trial 1 finished with values: [0.09677575757575758, 0.17412084895386537] and parameters: {'weight_decay': 0.8698893675667941}. \n",
      "[I 2024-06-16 04:53:33,425] Trial 2 finished with values: [0.09692848484848486, 0.1749174408009578] and parameters: {'weight_decay': 0.9450498336161861}. \n",
      "[I 2024-06-16 04:55:33,435] Trial 3 finished with values: [0.0980218181818182, 0.17052122746886209] and parameters: {'weight_decay': 0.6868637310622352}. \n",
      "[I 2024-06-16 04:57:40,814] Trial 4 finished with values: [0.14152484848484853, 0.24076509500870538] and parameters: {'weight_decay': 0.054016717653077036}. \n",
      "[I 2024-06-16 04:57:40,814] A new study created in memory with name: Study - lr(1) hds(50) bs(3350) - 20240615T185932\n",
      "[I 2024-06-16 04:59:13,960] Trial 0 finished with values: [0.10360727272727273, 0.1817151413757989] and parameters: {'weight_decay': 0.7634320409236892}. \n",
      "[I 2024-06-16 05:00:46,386] Trial 1 finished with values: [0.16840242424242424, 0.22132787399520037] and parameters: {'weight_decay': 0.1057843903954171}. \n",
      "[I 2024-06-16 05:02:20,121] Trial 2 finished with values: [0.1140630303030303, 0.1888248092554843] and parameters: {'weight_decay': 0.2688972388219364}. \n",
      "[I 2024-06-16 05:03:53,256] Trial 3 finished with values: [0.6231733333333332, 0.6068510499349131] and parameters: {'weight_decay': 0.020467297197178685}. \n",
      "[I 2024-06-16 05:05:27,835] Trial 4 finished with values: [0.10391515151515152, 0.1769335285778314] and parameters: {'weight_decay': 0.5015635819435591}. \n",
      "[I 2024-06-16 05:05:27,835] A new study created in memory with name: Study - lr(1) hds(100) bs(1) - 20240615T185932\n"
     ]
    },
    {
     "name": "stdout",
     "output_type": "stream",
     "text": [
      "{'best_accuracy': 0.10360727272727273, 'best_f1': 0.1817151413757989}\n"
     ]
    },
    {
     "name": "stderr",
     "output_type": "stream",
     "text": [
      "[I 2024-06-16 05:25:26,632] Trial 0 finished with values: [0.10072969696969696, 0.1790761880115296] and parameters: {'weight_decay': 0.6260090781067186}. \n",
      "[I 2024-06-16 05:46:33,053] Trial 1 finished with values: [0.09932606060606061, 0.1774982375672818] and parameters: {'weight_decay': 0.30322633346127736}. \n",
      "[I 2024-06-16 06:08:03,216] Trial 2 finished with values: [0.09898666666666667, 0.1726074153582751] and parameters: {'weight_decay': 0.4273476378028921}. \n",
      "[I 2024-06-16 06:29:21,243] Trial 3 finished with values: [0.10006060606060606, 0.1787527581571338] and parameters: {'weight_decay': 0.1545960698194225}. \n",
      "[I 2024-06-16 06:49:31,056] Trial 4 finished with values: [0.10101333333333332, 0.1795981604916844] and parameters: {'weight_decay': 0.6551348536634473}. \n",
      "[I 2024-06-16 06:49:31,072] A new study created in memory with name: Study - lr(1) hds(100) bs(10) - 20240615T185932\n",
      "[I 2024-06-16 06:53:33,094] Trial 0 finished with values: [0.1052290909090909, 0.18210172727297816] and parameters: {'weight_decay': 0.02940705538600452}. \n",
      "[I 2024-06-16 06:57:20,533] Trial 1 finished with values: [0.09875151515151515, 0.17547525617371318] and parameters: {'weight_decay': 0.6710878070657544}. \n",
      "[I 2024-06-16 07:01:04,686] Trial 2 finished with values: [0.09924121212121213, 0.17869123022221686] and parameters: {'weight_decay': 0.7652414331390015}. \n",
      "[I 2024-06-16 07:04:52,510] Trial 3 finished with values: [0.09896969696969697, 0.17625018227273723] and parameters: {'weight_decay': 0.7377606106435649}. \n",
      "[I 2024-06-16 07:08:41,434] Trial 4 finished with values: [0.09928969696969697, 0.17625296706276375] and parameters: {'weight_decay': 0.7549006345317474}. \n",
      "[I 2024-06-16 07:08:41,436] A new study created in memory with name: Study - lr(1) hds(100) bs(50) - 20240615T185932\n",
      "[I 2024-06-16 07:10:55,220] Trial 0 finished with values: [0.09964363636363638, 0.17275613260114295] and parameters: {'weight_decay': 0.32821390832547404}. \n",
      "[I 2024-06-16 07:13:03,678] Trial 1 finished with values: [0.0963878787878788, 0.17578211002772254] and parameters: {'weight_decay': 0.9903073686733314}. \n",
      "[I 2024-06-16 07:15:16,285] Trial 2 finished with values: [0.09709575757575757, 0.1724217078612049] and parameters: {'weight_decay': 0.7651739913280848}. \n",
      "[I 2024-06-16 07:17:27,992] Trial 3 finished with values: [0.09600242424242425, 0.17514075297439108] and parameters: {'weight_decay': 0.95246511987452}. \n",
      "[I 2024-06-16 07:19:38,567] Trial 4 finished with values: [0.09626424242424245, 0.1736775851009888] and parameters: {'weight_decay': 0.8243231057663805}. \n",
      "[I 2024-06-16 07:19:38,583] A new study created in memory with name: Study - lr(1) hds(100) bs(3350) - 20240615T185932\n",
      "[I 2024-06-16 07:21:16,816] Trial 0 finished with values: [0.09967757575757576, 0.1716685663765134] and parameters: {'weight_decay': 0.6103254987085593}. \n",
      "[I 2024-06-16 07:22:51,846] Trial 1 finished with values: [0.10034666666666667, 0.17843308002919817] and parameters: {'weight_decay': 0.810495049678858}. \n",
      "[I 2024-06-16 07:24:35,012] Trial 2 finished with values: [0.14159030303030304, 0.20748527980108486] and parameters: {'weight_decay': 0.06848833334366859}. \n",
      "[I 2024-06-16 07:26:15,956] Trial 3 finished with values: [0.11002666666666668, 0.18407700041310446] and parameters: {'weight_decay': 0.2457674560199032}. \n",
      "[I 2024-06-16 07:27:52,923] Trial 4 finished with values: [0.10768727272727273, 0.18650338529767274] and parameters: {'weight_decay': 0.24856580496349612}. \n",
      "[I 2024-06-16 07:27:52,923] A new study created in memory with name: Study - lr(10) hds(25) bs(1) - 20240615T185932\n"
     ]
    },
    {
     "name": "stdout",
     "output_type": "stream",
     "text": [
      "{'best_accuracy': 0.09967757575757576, 'best_f1': 0.1716685663765134}\n"
     ]
    },
    {
     "name": "stderr",
     "output_type": "stream",
     "text": [
      "[I 2024-06-16 07:38:58,855] Trial 0 finished with values: [0.08727272727272728, 0.16053511705685616] and parameters: {'weight_decay': 0.47765731629933417}. \n",
      "[I 2024-06-16 07:51:15,096] Trial 1 finished with values: [0.10024242424242424, 0.18219003003340334] and parameters: {'weight_decay': 0.08782925382810777}. \n",
      "[I 2024-06-16 08:02:14,315] Trial 2 finished with values: [0.08727272727272728, 0.16053511705685616] and parameters: {'weight_decay': 0.8957883743755334}. \n",
      "[I 2024-06-16 08:13:32,980] Trial 3 finished with values: [0.08727272727272728, 0.16053511705685616] and parameters: {'weight_decay': 0.42656904264272005}. \n",
      "[I 2024-06-16 08:24:34,419] Trial 4 finished with values: [0.08727272727272728, 0.16053511705685616] and parameters: {'weight_decay': 0.2626245813787594}. \n",
      "[I 2024-06-16 08:24:34,419] A new study created in memory with name: Study - lr(10) hds(25) bs(10) - 20240615T185932\n",
      "[I 2024-06-16 08:28:11,557] Trial 0 finished with values: [0.09985939393939396, 0.1787374182886548] and parameters: {'weight_decay': 0.021126565593407236}. \n",
      "[I 2024-06-16 08:31:38,100] Trial 1 finished with values: [0.08727272727272728, 0.16053511705685616] and parameters: {'weight_decay': 0.8290368520797597}. \n",
      "[I 2024-06-16 08:35:03,193] Trial 2 finished with values: [0.08727272727272728, 0.16053511705685616] and parameters: {'weight_decay': 0.417421991727806}. \n",
      "[I 2024-06-16 08:38:30,868] Trial 3 finished with values: [0.08727272727272728, 0.16053511705685616] and parameters: {'weight_decay': 0.7365933127454528}. \n",
      "[I 2024-06-16 08:41:55,412] Trial 4 finished with values: [0.08727272727272728, 0.16053511705685616] and parameters: {'weight_decay': 0.25657675185435785}. \n",
      "[I 2024-06-16 08:41:55,412] A new study created in memory with name: Study - lr(10) hds(25) bs(50) - 20240615T185932\n",
      "[I 2024-06-16 08:43:55,838] Trial 0 finished with values: [0.08727272727272728, 0.16053511705685616] and parameters: {'weight_decay': 0.4620799750299219}. \n",
      "[I 2024-06-16 08:45:55,265] Trial 1 finished with values: [0.08727272727272728, 0.16053511705685616] and parameters: {'weight_decay': 0.5205471271194575}. \n",
      "[I 2024-06-16 08:47:54,677] Trial 2 finished with values: [0.08727272727272728, 0.16053511705685616] and parameters: {'weight_decay': 0.9200207772665147}. \n",
      "[I 2024-06-16 08:49:58,283] Trial 3 finished with values: [0.09624727272727272, 0.17338998758302746] and parameters: {'weight_decay': 0.08531219256418547}. \n",
      "[I 2024-06-16 08:51:57,243] Trial 4 finished with values: [0.08727272727272728, 0.16053511705685616] and parameters: {'weight_decay': 0.7442661675264646}. \n",
      "[I 2024-06-16 08:51:57,245] A new study created in memory with name: Study - lr(10) hds(25) bs(3350) - 20240615T185932\n",
      "[I 2024-06-16 08:53:32,541] Trial 0 finished with values: [0.09313939393939392, 0.15400695668743436] and parameters: {'weight_decay': 0.29296972110497693}. \n",
      "[I 2024-06-16 08:55:05,773] Trial 1 finished with values: [0.09944242424242423, 0.1503089284749659] and parameters: {'weight_decay': 0.2439053326225493}. \n",
      "[I 2024-06-16 08:56:42,805] Trial 2 finished with values: [0.08928242424242426, 0.15554221873905605] and parameters: {'weight_decay': 0.22262232550195046}. \n",
      "[I 2024-06-16 08:58:20,455] Trial 3 finished with values: [0.09948121212121212, 0.17338402287779586] and parameters: {'weight_decay': 0.07484200758832008}. \n",
      "[I 2024-06-16 08:59:53,016] Trial 4 finished with values: [0.08889454545454546, 0.15314998530582752] and parameters: {'weight_decay': 0.6985759957730616}. \n",
      "[I 2024-06-16 08:59:53,016] A new study created in memory with name: Study - lr(10) hds(50) bs(1) - 20240615T185932\n"
     ]
    },
    {
     "name": "stdout",
     "output_type": "stream",
     "text": [
      "{'best_accuracy': 0.09944242424242423, 'best_f1': 0.1503089284749659}\n"
     ]
    },
    {
     "name": "stderr",
     "output_type": "stream",
     "text": [
      "[I 2024-06-16 09:21:15,647] Trial 0 finished with values: [0.09759999999999999, 0.17779504612645922] and parameters: {'weight_decay': 0.18631065489107826}. \n",
      "[I 2024-06-16 09:40:16,277] Trial 1 finished with values: [0.08727272727272728, 0.16053511705685616] and parameters: {'weight_decay': 0.725240675696957}. \n",
      "[I 2024-06-16 09:59:04,662] Trial 2 finished with values: [0.08727272727272728, 0.16053511705685616] and parameters: {'weight_decay': 0.5973326564713154}. \n",
      "[I 2024-06-16 10:17:57,997] Trial 3 finished with values: [0.08727272727272728, 0.16053511705685616] and parameters: {'weight_decay': 0.36607339192583294}. \n",
      "[I 2024-06-16 10:36:41,673] Trial 4 finished with values: [0.08727272727272728, 0.16053511705685616] and parameters: {'weight_decay': 0.4940825905573039}. \n",
      "[I 2024-06-16 10:36:41,673] A new study created in memory with name: Study - lr(10) hds(50) bs(10) - 20240615T185932\n",
      "[I 2024-06-16 10:40:15,164] Trial 0 finished with values: [0.08727272727272728, 0.16053511705685616] and parameters: {'weight_decay': 0.5534402875733659}. \n",
      "[I 2024-06-16 10:43:50,339] Trial 1 finished with values: [0.08727272727272728, 0.16053511705685616] and parameters: {'weight_decay': 0.7705443939268096}. \n",
      "[I 2024-06-16 10:47:24,813] Trial 2 finished with values: [0.08727272727272728, 0.16053511705685616] and parameters: {'weight_decay': 0.9636691689638018}. \n",
      "[I 2024-06-16 10:50:56,238] Trial 3 finished with values: [0.08727272727272728, 0.16053511705685616] and parameters: {'weight_decay': 0.2527975904987747}. \n",
      "[I 2024-06-16 10:54:30,513] Trial 4 finished with values: [0.08727272727272728, 0.16053511705685616] and parameters: {'weight_decay': 0.6356387930373484}. \n",
      "[I 2024-06-16 10:54:30,513] A new study created in memory with name: Study - lr(10) hds(50) bs(50) - 20240615T185932\n",
      "[I 2024-06-16 10:56:33,693] Trial 0 finished with values: [0.08727272727272728, 0.16053511705685616] and parameters: {'weight_decay': 0.43115736444410685}. \n",
      "[I 2024-06-16 10:58:43,696] Trial 1 finished with values: [0.09731636363636363, 0.1773380646277262] and parameters: {'weight_decay': 0.1129525815344507}. \n",
      "[I 2024-06-16 11:00:53,398] Trial 2 finished with values: [0.11333333333333331, 0.2035928143712575] and parameters: {'weight_decay': 0.14995341915230062}. \n",
      "[I 2024-06-16 11:02:57,980] Trial 3 finished with values: [0.08727272727272728, 0.16053511705685616] and parameters: {'weight_decay': 0.587659608161243}. \n",
      "[I 2024-06-16 11:05:04,205] Trial 4 finished with values: [0.08727272727272728, 0.16053511705685616] and parameters: {'weight_decay': 0.3096759049810184}. \n",
      "[I 2024-06-16 11:05:04,205] A new study created in memory with name: Study - lr(10) hds(50) bs(3350) - 20240615T185932\n",
      "[I 2024-06-16 11:06:41,169] Trial 0 finished with values: [0.08824727272727274, 0.16215218633016765] and parameters: {'weight_decay': 0.8310735488694813}. \n",
      "[I 2024-06-16 11:08:20,403] Trial 1 finished with values: [0.08828363636363638, 0.16198490025997303] and parameters: {'weight_decay': 0.8739231359691921}. \n",
      "[I 2024-06-16 11:09:54,730] Trial 2 finished with values: [0.08883636363636364, 0.1622608117902003] and parameters: {'weight_decay': 0.8152177172664526}. \n",
      "[I 2024-06-16 11:11:35,344] Trial 3 finished with values: [0.08898666666666667, 0.1627461983002262] and parameters: {'weight_decay': 0.4487698051071079}. \n",
      "[I 2024-06-16 11:13:15,825] Trial 4 finished with values: [0.09181818181818183, 0.16819303124851714] and parameters: {'weight_decay': 0.19317974816811628}. \n",
      "[I 2024-06-16 11:13:15,825] A new study created in memory with name: Study - lr(10) hds(100) bs(1) - 20240615T185932\n"
     ]
    },
    {
     "name": "stdout",
     "output_type": "stream",
     "text": [
      "{'best_accuracy': 0.08824727272727274, 'best_f1': 0.16215218633016765}\n"
     ]
    },
    {
     "name": "stderr",
     "output_type": "stream",
     "text": [
      "[I 2024-06-16 11:33:05,122] Trial 0 finished with values: [0.08727272727272728, 0.16053511705685616] and parameters: {'weight_decay': 0.6604870074865662}. \n",
      "[I 2024-06-16 11:53:12,186] Trial 1 finished with values: [0.08727272727272728, 0.16053511705685616] and parameters: {'weight_decay': 0.5103516008208241}. \n",
      "[I 2024-06-16 12:13:09,382] Trial 2 finished with values: [0.08727272727272728, 0.16053511705685616] and parameters: {'weight_decay': 0.27141533959068553}. \n",
      "[I 2024-06-16 12:32:58,100] Trial 3 finished with values: [0.08727272727272728, 0.16053511705685616] and parameters: {'weight_decay': 0.7740853991063007}. \n",
      "[I 2024-06-16 12:54:35,761] Trial 4 finished with values: [0.10039757575757577, 0.18133648320635973] and parameters: {'weight_decay': 0.002171215135047611}. \n",
      "[I 2024-06-16 12:54:35,761] A new study created in memory with name: Study - lr(10) hds(100) bs(10) - 20240615T185932\n",
      "[I 2024-06-16 12:58:43,846] Trial 0 finished with values: [0.09983515151515154, 0.17916584032517727] and parameters: {'weight_decay': 0.041914262898116575}. \n",
      "[I 2024-06-16 13:02:30,185] Trial 1 finished with values: [0.08727272727272728, 0.16053511705685616] and parameters: {'weight_decay': 0.2717020364325755}. \n",
      "[I 2024-06-16 13:06:17,890] Trial 2 finished with values: [0.08727272727272728, 0.16053511705685616] and parameters: {'weight_decay': 0.9982495622227034}. \n",
      "[I 2024-06-16 13:10:08,161] Trial 3 finished with values: [0.08727272727272728, 0.16053511705685616] and parameters: {'weight_decay': 0.7547226683755045}. \n",
      "[I 2024-06-16 13:13:53,851] Trial 4 finished with values: [0.08727272727272728, 0.16053511705685616] and parameters: {'weight_decay': 0.36830792811282687}. \n",
      "[I 2024-06-16 13:13:53,853] A new study created in memory with name: Study - lr(10) hds(100) bs(50) - 20240615T185932\n",
      "[I 2024-06-16 13:16:04,358] Trial 0 finished with values: [0.08727272727272728, 0.16053511705685616] and parameters: {'weight_decay': 0.522285056463871}. \n",
      "[I 2024-06-16 13:18:15,498] Trial 1 finished with values: [0.0873769696969697, 0.1607073478461138] and parameters: {'weight_decay': 0.28213467729652664}. \n",
      "[I 2024-06-16 13:20:25,906] Trial 2 finished with values: [0.08727272727272728, 0.16053511705685616] and parameters: {'weight_decay': 0.6780074532648941}. \n",
      "[I 2024-06-16 13:22:36,347] Trial 3 finished with values: [0.08727272727272728, 0.16053511705685616] and parameters: {'weight_decay': 0.7609594174166678}. \n",
      "[I 2024-06-16 13:24:46,672] Trial 4 finished with values: [0.08727272727272728, 0.16053511705685616] and parameters: {'weight_decay': 0.38242705999659804}. \n",
      "[I 2024-06-16 13:24:46,672] A new study created in memory with name: Study - lr(10) hds(100) bs(3350) - 20240615T185932\n",
      "[I 2024-06-16 13:26:28,338] Trial 0 finished with values: [0.08845818181818182, 0.16234947388129198] and parameters: {'weight_decay': 0.5067486719365697}. \n",
      "[I 2024-06-16 13:28:07,899] Trial 1 finished with values: [0.0882448484848485, 0.1621046258857338] and parameters: {'weight_decay': 0.799239195743871}. \n",
      "[I 2024-06-16 13:29:48,662] Trial 2 finished with values: [0.08776242424242425, 0.16110863227115246] and parameters: {'weight_decay': 0.3043427502876565}. \n",
      "[I 2024-06-16 13:31:39,357] Trial 3 finished with values: [0.10350787878787879, 0.16952592674754374] and parameters: {'weight_decay': 0.025679912335785614}. \n",
      "[I 2024-06-16 13:33:20,787] Trial 4 finished with values: [0.08958060606060607, 0.16386372930488108] and parameters: {'weight_decay': 0.8176951788512445}. \n"
     ]
    },
    {
     "name": "stdout",
     "output_type": "stream",
     "text": [
      "{'best_accuracy': 0.08776242424242425, 'best_f1': 0.16110863227115246}\n"
     ]
    }
   ],
   "source": [
    "\n",
    "# Fixed hyperparameters\n",
    "fixed_hyperparams = {\n",
    "    'learning_rates': [0.5, 1, 10],\n",
    "    'hidden_dim_sizes': [25, 50, 100],\n",
    "    'batch_sizes': [1, 10, 50, len(training_data)],\n",
    "}\n",
    "\n",
    "# watch out for n_trials, n_splits, n_epochs\n",
    "n_trials = 5\n",
    "n_splits = 5\n",
    "n_epochs = 50\n",
    "\n",
    "# Set up MLflow tracking URI\n",
    "mlflow.set_tracking_uri('http://localhost:5000')\n",
    "mlflow.autolog()\n",
    "\n",
    "# Get the current date and time\n",
    "now = datetime.now()\n",
    "\n",
    "# Convert to string in the format 'YYYY-MM-DD HH:MM:SS'\n",
    "formatted_now = now.strftime('%Y%m%dT%H%M%S')\n",
    "print(formatted_now)\n",
    "\n",
    "mlflow_exp = mlflow.set_experiment(experiment_name  = 'TP1ML - '+formatted_now)\n",
    "\n",
    "# Iterate over fixed hyperparameters\n",
    "best_results = {}\n",
    "for lr in fixed_hyperparams['learning_rates']:\n",
    "    for hds in fixed_hyperparams['hidden_dim_sizes']:\n",
    "        for bs in fixed_hyperparams['batch_sizes']:\n",
    "            # Create an Optuna study for each combination\n",
    "            study_name =  \"Study - lr({lr}) hds({hds}) bs({bs}) - \".format(lr =lr,hds=hds,bs =bs)+formatted_now\n",
    "            study = optuna.create_study(directions=[\"minimize\", \"minimize\"],study_name =study_name )\n",
    "\n",
    "            study.optimize(\n",
    "                lambda t: objective(t, lr, hds, bs, X_train, y_train,n_epochs,n_splits,mlflow_exp.experiment_id)\n",
    "                , n_trials=n_trials\n",
    "                )\n",
    "            \n",
    "            # Record the best trial\n",
    "            best_trial = study.best_trials[0]\n",
    "            best_accuracy = best_trial.values[0]\n",
    "            best_f1 = best_trial.values[1]\n",
    "            \n",
    "            # Record best results\n",
    "            best_results[(lr, hds, bs)] = {\n",
    "                'best_accuracy': best_accuracy,\n",
    "                'best_f1': best_f1,\n",
    "            }\n",
    "        \n",
    "        print(best_results[(lr, hds, bs)])"
   ]
  },
  {
   "cell_type": "code",
   "execution_count": 10,
   "metadata": {},
   "outputs": [
    {
     "name": "stdout",
     "output_type": "stream",
     "text": [
      "Learning Rate: 0.5, Hidden Dimension Size: 25, Batch Size: 1\n",
      "Best Accuracy: 0.1011709090909091, Best F1 Score: 0.1762214275085511\n",
      "Learning Rate: 0.5, Hidden Dimension Size: 25, Batch Size: 10\n",
      "Best Accuracy: 0.09852363636363637, Best F1 Score: 0.17232837783508537\n",
      "Learning Rate: 0.5, Hidden Dimension Size: 25, Batch Size: 50\n",
      "Best Accuracy: 0.10311757575757577, Best F1 Score: 0.17187873971878806\n",
      "Learning Rate: 0.5, Hidden Dimension Size: 25, Batch Size: 3350\n",
      "Best Accuracy: 0.14158060606060605, Best F1 Score: 0.21666443792451145\n",
      "Learning Rate: 0.5, Hidden Dimension Size: 50, Batch Size: 1\n",
      "Best Accuracy: 0.09961939393939394, Best F1 Score: 0.1741169141877573\n",
      "Learning Rate: 0.5, Hidden Dimension Size: 50, Batch Size: 10\n",
      "Best Accuracy: 0.09812121212121212, Best F1 Score: 0.16730506503147444\n",
      "Learning Rate: 0.5, Hidden Dimension Size: 50, Batch Size: 50\n",
      "Best Accuracy: 0.10273696969696972, Best F1 Score: 0.17019021312556604\n",
      "Learning Rate: 0.5, Hidden Dimension Size: 50, Batch Size: 3350\n",
      "Best Accuracy: 0.1250230303030303, Best F1 Score: 0.2015123660041185\n",
      "Learning Rate: 0.5, Hidden Dimension Size: 100, Batch Size: 1\n",
      "Best Accuracy: 0.09900121212121211, Best F1 Score: 0.17158055819482804\n",
      "Learning Rate: 0.5, Hidden Dimension Size: 100, Batch Size: 10\n",
      "Best Accuracy: 0.09858424242424244, Best F1 Score: 0.1726286857242852\n",
      "Learning Rate: 0.5, Hidden Dimension Size: 100, Batch Size: 50\n",
      "Best Accuracy: 0.10151757575757576, Best F1 Score: 0.16989654084181002\n",
      "Learning Rate: 0.5, Hidden Dimension Size: 100, Batch Size: 3350\n",
      "Best Accuracy: 0.10695515151515152, Best F1 Score: 0.18569627364409316\n",
      "Learning Rate: 1, Hidden Dimension Size: 25, Batch Size: 1\n",
      "Best Accuracy: 0.0996921212121212, Best F1 Score: 0.17557886284764973\n",
      "Learning Rate: 1, Hidden Dimension Size: 25, Batch Size: 10\n",
      "Best Accuracy: 0.09869818181818184, Best F1 Score: 0.17449127389958569\n",
      "Learning Rate: 1, Hidden Dimension Size: 25, Batch Size: 50\n",
      "Best Accuracy: 0.09747393939393939, Best F1 Score: 0.16883482103413283\n",
      "Learning Rate: 1, Hidden Dimension Size: 25, Batch Size: 3350\n",
      "Best Accuracy: 0.09797818181818183, Best F1 Score: 0.17669127495423625\n",
      "Learning Rate: 1, Hidden Dimension Size: 50, Batch Size: 1\n",
      "Best Accuracy: 0.0995660606060606, Best F1 Score: 0.17808350690652855\n",
      "Learning Rate: 1, Hidden Dimension Size: 50, Batch Size: 10\n",
      "Best Accuracy: 0.0986448484848485, Best F1 Score: 0.17445715503870132\n",
      "Learning Rate: 1, Hidden Dimension Size: 50, Batch Size: 50\n",
      "Best Accuracy: 0.09692121212121213, Best F1 Score: 0.17080598207725758\n",
      "Learning Rate: 1, Hidden Dimension Size: 50, Batch Size: 3350\n",
      "Best Accuracy: 0.10360727272727273, Best F1 Score: 0.1817151413757989\n",
      "Learning Rate: 1, Hidden Dimension Size: 100, Batch Size: 1\n",
      "Best Accuracy: 0.09898666666666667, Best F1 Score: 0.1726074153582751\n",
      "Learning Rate: 1, Hidden Dimension Size: 100, Batch Size: 10\n",
      "Best Accuracy: 0.09875151515151515, Best F1 Score: 0.17547525617371318\n",
      "Learning Rate: 1, Hidden Dimension Size: 100, Batch Size: 50\n",
      "Best Accuracy: 0.09709575757575757, Best F1 Score: 0.1724217078612049\n",
      "Learning Rate: 1, Hidden Dimension Size: 100, Batch Size: 3350\n",
      "Best Accuracy: 0.09967757575757576, Best F1 Score: 0.1716685663765134\n",
      "Learning Rate: 10, Hidden Dimension Size: 25, Batch Size: 1\n",
      "Best Accuracy: 0.08727272727272728, Best F1 Score: 0.16053511705685616\n",
      "Learning Rate: 10, Hidden Dimension Size: 25, Batch Size: 10\n",
      "Best Accuracy: 0.08727272727272728, Best F1 Score: 0.16053511705685616\n",
      "Learning Rate: 10, Hidden Dimension Size: 25, Batch Size: 50\n",
      "Best Accuracy: 0.08727272727272728, Best F1 Score: 0.16053511705685616\n",
      "Learning Rate: 10, Hidden Dimension Size: 25, Batch Size: 3350\n",
      "Best Accuracy: 0.09944242424242423, Best F1 Score: 0.1503089284749659\n",
      "Learning Rate: 10, Hidden Dimension Size: 50, Batch Size: 1\n",
      "Best Accuracy: 0.08727272727272728, Best F1 Score: 0.16053511705685616\n",
      "Learning Rate: 10, Hidden Dimension Size: 50, Batch Size: 10\n",
      "Best Accuracy: 0.08727272727272728, Best F1 Score: 0.16053511705685616\n",
      "Learning Rate: 10, Hidden Dimension Size: 50, Batch Size: 50\n",
      "Best Accuracy: 0.08727272727272728, Best F1 Score: 0.16053511705685616\n",
      "Learning Rate: 10, Hidden Dimension Size: 50, Batch Size: 3350\n",
      "Best Accuracy: 0.08824727272727274, Best F1 Score: 0.16215218633016765\n",
      "Learning Rate: 10, Hidden Dimension Size: 100, Batch Size: 1\n",
      "Best Accuracy: 0.08727272727272728, Best F1 Score: 0.16053511705685616\n",
      "Learning Rate: 10, Hidden Dimension Size: 100, Batch Size: 10\n",
      "Best Accuracy: 0.08727272727272728, Best F1 Score: 0.16053511705685616\n",
      "Learning Rate: 10, Hidden Dimension Size: 100, Batch Size: 50\n",
      "Best Accuracy: 0.08727272727272728, Best F1 Score: 0.16053511705685616\n",
      "Learning Rate: 10, Hidden Dimension Size: 100, Batch Size: 3350\n",
      "Best Accuracy: 0.08776242424242425, Best F1 Score: 0.16110863227115246\n"
     ]
    }
   ],
   "source": [
    "# Print the best results\n",
    "for (lr, hds, bs), result in best_results.items():\n",
    "    print(f\"Learning Rate: {lr}, Hidden Dimension Size: {hds}, Batch Size: {bs}\")\n",
    "    print(f\"Best Accuracy: {result['best_accuracy']}, Best F1 Score: {result['best_f1']}\")\n"
   ]
  }
 ],
 "metadata": {
  "kernelspec": {
   "display_name": "tp1ml",
   "language": "python",
   "name": "python3"
  },
  "language_info": {
   "codemirror_mode": {
    "name": "ipython",
    "version": 3
   },
   "file_extension": ".py",
   "mimetype": "text/x-python",
   "name": "python",
   "nbconvert_exporter": "python",
   "pygments_lexer": "ipython3",
   "version": "3.11.9"
  }
 },
 "nbformat": 4,
 "nbformat_minor": 2
}
